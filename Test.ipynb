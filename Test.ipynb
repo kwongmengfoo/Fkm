{
 "cells": [
  {
   "cell_type": "code",
   "execution_count": 3,
   "metadata": {},
   "outputs": [],
   "source": [
    "import os\n",
    "from openai import OpenAI\n",
    "from dotenv import load_dotenv\n",
    "import gradio as gr\n",
    "\n",
    "# load OpenAI api key from env file\n",
    "load_dotenv()\n",
    "\n",
    "api_key = os.getenv(\"OPENAI_API_KEY\")\n",
    "os.environ[\"OPENAI_API_KEY\"] = api_key\n",
    "\n",
    "client = OpenAI()"
   ]
  },
  {
   "cell_type": "code",
   "execution_count": 16,
   "metadata": {},
   "outputs": [],
   "source": [
    "# define the chat function \n",
    "def chat_with_openai(message, history):\n",
    "    \n",
    "    system_prompt = \"\"\"\n",
    "    \n",
    "    Context: We are a rapidly growing financial advisory firm specializing in providing personalized wealth management solutions. \n",
    "             Our clientele ranges from young professionals to retirees, each seeking advice to enhance their financial well-being and secure their future.\n",
    "\n",
    "    Objective: To help clients achieve their financial goals through expert analysis, tailored strategies, and ongoing support. \n",
    "               The role is pivotal in guiding clients on investment, retirement, tax, and estate planning decisions while fostering long-term relationships.\n",
    "\n",
    "    Scope: You will work directly with a diverse client base to assess their financial situations, create and implement comprehensive financial plans, \n",
    "           and monitor their progress. The scope of work includes financial analysis, investment advice, risk management, and ongoing adjustments to clients' plans.\n",
    "\n",
    "    Task: Your daily tasks will involve meeting with clients to understand their goals, analyzing their financial data, recommending suitable financial products, \n",
    "          and providing guidance on wealth preservation, retirement planning, and tax optimization. You will also collaborate with other professionals, \n",
    "          such as accountants and lawyers, to ensure holistic solutions for clients.\n",
    "\n",
    "    Action: You will conduct regular client reviews, stay updated on market trends and regulations, and proactively recommend adjustments to financial strategies. \n",
    "            Clear communication and relationship-building are key to fostering trust and client satisfaction.\n",
    "\n",
    "    Result: Success in this role will result in satisfied, long-term clients who achieve financial stability and growth. \n",
    "            Your guidance will directly contribute to the firm’s reputation and growth through referrals and client retention.\n",
    "    \n",
    "    \"\"\"\n",
    "    \n",
    "    try:\n",
    "        conversation_history = [\n",
    "            {\"role\": \"system\", \"content\": system_prompt}\n",
    "        ]\n",
    "        for h in history:\n",
    "            conversation_history.append({\"role\": \"user\", \"content\": h[0]})\n",
    "            conversation_history.append({\"role\": \"assistant\", \"content\": h[1]})\n",
    "    except:\n",
    "        return \"Something has gone wrong!\"    \n",
    "\n",
    "    # Add the user message to the conversation history\n",
    "    conversation_history.append({\"role\": \"user\", \"content\": message})\n",
    "\n",
    "    # Get the AI's response\n",
    "    response = client.chat.completions.create(\n",
    "        model=\"gpt-4o-mini-2024-07-18\", #\"gpt-3.5-turbo\"\n",
    "        messages=conversation_history\n",
    "    )\n",
    "\n",
    "    # Extract the assistant's reply\n",
    "    assistant_reply = response.choices[0].message.content\n",
    "    \n",
    "    return assistant_reply"
   ]
  },
  {
   "cell_type": "code",
   "execution_count": 17,
   "metadata": {},
   "outputs": [
    {
     "name": "stdout",
     "output_type": "stream",
     "text": [
      "Running on local URL:  http://127.0.0.1:7868\n",
      "\n",
      "To create a public link, set `share=True` in `launch()`.\n"
     ]
    },
    {
     "data": {
      "text/html": [
       "<div><iframe src=\"http://127.0.0.1:7868/\" width=\"100%\" height=\"500\" allow=\"autoplay; camera; microphone; clipboard-read; clipboard-write;\" frameborder=\"0\" allowfullscreen></iframe></div>"
      ],
      "text/plain": [
       "<IPython.core.display.HTML object>"
      ]
     },
     "metadata": {},
     "output_type": "display_data"
    },
    {
     "data": {
      "text/plain": []
     },
     "execution_count": 17,
     "metadata": {},
     "output_type": "execute_result"
    }
   ],
   "source": [
    "\n",
    "gr.ChatInterface(chat_with_openai).launch()"
   ]
  },
  {
   "cell_type": "code",
   "execution_count": null,
   "metadata": {},
   "outputs": [],
   "source": []
  }
 ],
 "metadata": {
  "kernelspec": {
   "display_name": "open_ai",
   "language": "python",
   "name": "python3"
  },
  "language_info": {
   "codemirror_mode": {
    "name": "ipython",
    "version": 3
   },
   "file_extension": ".py",
   "mimetype": "text/x-python",
   "name": "python",
   "nbconvert_exporter": "python",
   "pygments_lexer": "ipython3",
   "version": "3.12.4"
  }
 },
 "nbformat": 4,
 "nbformat_minor": 2
}
